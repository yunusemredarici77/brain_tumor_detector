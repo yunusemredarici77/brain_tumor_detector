{
  "nbformat": 4,
  "nbformat_minor": 0,
  "metadata": {
    "colab": {
      "provenance": [],
      "collapsed_sections": []
    },
    "kernelspec": {
      "name": "python3",
      "display_name": "Python 3"
    },
    "language_info": {
      "name": "python"
    },
    "accelerator": "GPU"
  },
  "cells": [
    {
      "cell_type": "code",
      "execution_count": null,
      "metadata": {
        "id": "oTRdSPeYCzFH"
      },
      "outputs": [],
      "source": [
        "import cv2\n",
        "import tensorflow as tf\n",
        "import numpy as np\n",
        "from tensorflow.keras import layers\n",
        "from tensorflow.keras.applications import DenseNet121\n",
        "from tensorflow.keras.callbacks import Callback, ModelCheckpoint\n",
        "from tensorflow.keras.preprocessing.image import ImageDataGenerator\n",
        "from tensorflow.keras.models import Sequential, Model\n",
        "from tensorflow.keras.optimizers import Adam\n",
        "from tensorflow.keras.optimizers import RMSprop,SGD,Adam,Adadelta\n",
        "#opt = rmsprop(lr=0.0001, decay=1e-6)\n",
        "import matplotlib.pyplot as plt\n",
        "import pandas as pd\n",
        "from sklearn.model_selection import train_test_split\n",
        "from sklearn import metrics\n",
        "from tqdm import tqdm\n",
        "import os\n",
        "%matplotlib inline\n",
        "import matplotlib.pyplot as plt\n",
        "from PIL import Image\n",
        "import numpy as np\n",
        "import math\n",
        "import copy\n",
        "from keras.layers import Conv2D, MaxPooling2D, GlobalAveragePooling2D\n",
        "from keras.layers import Input, Dense, Flatten, Dropout, Activation, Lambda, Permute, Reshape\n",
        "from keras.models import Sequential\n",
        "from tensorflow.keras.layers import BatchNormalization\n",
        "from keras.layers import Convolution2D, ZeroPadding2D, MaxPooling2D\n",
        "from keras.preprocessing import image\n",
        "import tensorflow as tf\n",
        "from tensorflow.python.framework import ops\n",
        "from sklearn.datasets import load_files       \n",
        "from keras.utils import np_utils\n",
        "import numpy as np\n",
        "from glob import glob\n",
        "import pandas as pd\n",
        "import scipy.misc\n",
        "import matplotlib.pyplot as plt\n",
        "from tqdm import tqdm\n",
        "from keras.layers.merge import concatenate\n",
        "from sklearn import metrics\n",
        "from os import listdir\n",
        "from numpy import asarray\n",
        "from numpy import save\n",
        "from keras.preprocessing.image import load_img\n",
        "from keras.preprocessing.image import img_to_array\n",
        "\n"
      ]
    },
    {
      "cell_type": "code",
      "source": [
        "from google.colab import drive\n",
        "drive.mount('/content/drive')"
      ],
      "metadata": {
        "id": "UsQAN4OuC3h9",
        "colab": {
          "base_uri": "https://localhost:8080/"
        },
        "outputId": "fd736371-53be-4198-a219-51c64f5cf4ac"
      },
      "execution_count": null,
      "outputs": [
        {
          "output_type": "stream",
          "name": "stdout",
          "text": [
            "Drive already mounted at /content/drive; to attempt to forcibly remount, call drive.mount(\"/content/drive\", force_remount=True).\n"
          ]
        }
      ]
    },
    {
      "cell_type": "code",
      "source": [
        "def build_model(pretrained,init):\n",
        "    model = Sequential([\n",
        "        pretrained,\n",
        "        layers.GlobalAveragePooling2D(),\n",
        "        layers.Dense(512,kernel_initializer=init, activation=\"sigmoid\"),\n",
        "        layers.Dense(256,kernel_initializer=init, activation=\"sigmoid\"),\n",
        "        layers.Dense(128,kernel_initializer=init, activation=\"sigmoid\"),\n",
        "        layers.Dense(64,kernel_initializer=init, activation=\"sigmoid\"),\n",
        "        layers.Dense(32,kernel_initializer=init, activation=\"sigmoid\"),\n",
        "        layers.Dense(1, activation=\"sigmoid\")\n",
        "    ])\n",
        "    return model\n",
        "\n",
        "densenet = DenseNet121(\n",
        "    weights=None,\n",
        "    include_top=False,\n",
        "    input_shape=(160,160,1)\n",
        ")\n",
        "init=\"he_normal\"\n",
        "classifier = build_model(densenet,init)\n",
        "\"\"\"\n",
        "init='he_normal'\n",
        "model.add(Dense(128, kernel_initializer=init, activation=\"sigmoid\"))\n",
        "model.add(Dropout(0.2))\n",
        "model.add(Dense(64, kernel_initializer=init, activation=\"sigmoid\"))\n",
        "model.add(Dropout(0.2))\n",
        "model.add(Dense(32, kernel_initializer=init, activation=\"sigmoid\"))\n",
        "model.add(Dropout(0.2))\n",
        "\"\"\"\n",
        "classifier.summary() \n",
        "classifier.compile(loss='binary_crossentropy',optimizer=Adam(learning_rate=0.0001), metrics=['accuracy'])\n",
        "\n",
        "data_generator = ImageDataGenerator(rescale=1./255.,\n",
        "                               shear_range=0.15,\n",
        "                               zoom_range=0.15,\n",
        "                               featurewise_center=False,\n",
        "                               samplewise_center=False,\n",
        "                               featurewise_std_normalization=False,\n",
        "                               samplewise_std_normalization=False,\n",
        "                               zca_whitening=False,\n",
        "                               zca_epsilon=1e-06,\n",
        "                               rotation_range=0,\n",
        "                               width_shift_range=0.0,\n",
        "                               height_shift_range=0.0,\n",
        "                               brightness_range=None,\n",
        "                               channel_shift_range=0.0,                             \n",
        "                               cval=0.0,\n",
        "                               horizontal_flip=False,\n",
        "                               preprocessing_function=None,\n",
        "                               data_format=None,\n",
        "                               validation_split=0.0)\n",
        "batch_size = 32\n",
        "Training_dDtas = data_generator.flow_from_directory(\n",
        "    '/content/drive/My Drive/large_dataset(160)/Training',\n",
        "     target_size=(160,160),\n",
        "     batch_size=batch_size,\n",
        "     color_mode='grayscale',\n",
        "     shuffle = True,\n",
        "     class_mode='binary'\n",
        ")\n",
        "\n",
        "Test_Datas = data_generator.flow_from_directory(\n",
        "    '/content/drive/My Drive/large_dataset(160)/Val',\n",
        "    target_size=(160,160),\n",
        "    batch_size=1,\n",
        "    color_mode='grayscale',\n",
        "    shuffle = False,\n",
        "    class_mode='binary'\n",
        ")\n",
        "\n",
        "Validation_Datas = data_generator.flow_from_directory(\n",
        "    '/content/drive/My Drive/large_dataset(160)/Testing',\n",
        "    target_size = (160, 160),\n",
        "    batch_size = batch_size,\n",
        "    color_mode='grayscale',\n",
        "    shuffle = True,\n",
        "    class_mode ='binary'\n",
        ")"
      ],
      "metadata": {
        "id": "Pa7iriZMcfTC",
        "colab": {
          "base_uri": "https://localhost:8080/"
        },
        "outputId": "df0da87b-0084-4038-ece3-4414f383371b"
      },
      "execution_count": null,
      "outputs": [
        {
          "output_type": "stream",
          "name": "stdout",
          "text": [
            "Model: \"sequential_12\"\n",
            "_________________________________________________________________\n",
            " Layer (type)                Output Shape              Param #   \n",
            "=================================================================\n",
            " densenet121 (Functional)    (None, 5, 5, 1024)        7031232   \n",
            "                                                                 \n",
            " global_average_pooling2d_12  (None, 1024)             0         \n",
            "  (GlobalAveragePooling2D)                                       \n",
            "                                                                 \n",
            " dense_72 (Dense)            (None, 512)               524800    \n",
            "                                                                 \n",
            " dense_73 (Dense)            (None, 256)               131328    \n",
            "                                                                 \n",
            " dense_74 (Dense)            (None, 128)               32896     \n",
            "                                                                 \n",
            " dense_75 (Dense)            (None, 64)                8256      \n",
            "                                                                 \n",
            " dense_76 (Dense)            (None, 32)                2080      \n",
            "                                                                 \n",
            " dense_77 (Dense)            (None, 1)                 33        \n",
            "                                                                 \n",
            "=================================================================\n",
            "Total params: 7,730,625\n",
            "Trainable params: 7,646,977\n",
            "Non-trainable params: 83,648\n",
            "_________________________________________________________________\n",
            "Found 5025 images belonging to 2 classes.\n",
            "Found 640 images belonging to 2 classes.\n",
            "Found 1304 images belonging to 2 classes.\n"
          ]
        }
      ]
    },
    {
      "cell_type": "code",
      "source": [
        "Train_steps = 5302 //64\n",
        "Validation_steps = 1304 //64\n",
        "\n",
        "history = classifier.fit(\n",
        "    Training_Datas,\n",
        "    epochs = 30,\n",
        "    steps_per_epoch =Train_steps,\n",
        "    validation_data =Validation_Datas,\n",
        "    validation_steps = Validation_steps\n",
        ")\n",
        "model.save(\"custom_model.h5\")"
      ],
      "metadata": {
        "id": "sWD2p_obcfVT",
        "colab": {
          "base_uri": "https://localhost:8080/"
        },
        "outputId": "ebff9acf-81cd-41e8-9d93-849ee8f6aee5"
      },
      "execution_count": null,
      "outputs": [
        {
          "output_type": "stream",
          "name": "stdout",
          "text": [
            "Epoch 1/30\n",
            "82/82 [==============================] - 30s 236ms/step - loss: 0.5683 - accuracy: 0.7191 - val_loss: 0.6672 - val_accuracy: 0.6493\n",
            "Epoch 2/30\n",
            "82/82 [==============================] - 18s 214ms/step - loss: 0.4470 - accuracy: 0.7158 - val_loss: 0.6982 - val_accuracy: 0.6667\n",
            "Epoch 3/30\n",
            "82/82 [==============================] - 18s 219ms/step - loss: 0.3390 - accuracy: 0.9159 - val_loss: 0.6604 - val_accuracy: 0.7153\n",
            "Epoch 4/30\n",
            "82/82 [==============================] - 18s 218ms/step - loss: 0.2741 - accuracy: 0.9607 - val_loss: 0.7427 - val_accuracy: 0.6944\n",
            "Epoch 5/30\n",
            "82/82 [==============================] - 17s 210ms/step - loss: 0.2379 - accuracy: 0.9591 - val_loss: 0.7868 - val_accuracy: 0.6944\n",
            "Epoch 6/30\n",
            "82/82 [==============================] - 17s 212ms/step - loss: 0.2130 - accuracy: 0.9610 - val_loss: 0.7782 - val_accuracy: 0.4826\n",
            "Epoch 7/30\n",
            "82/82 [==============================] - 17s 212ms/step - loss: 0.1893 - accuracy: 0.9664 - val_loss: 0.5847 - val_accuracy: 0.7986\n",
            "Epoch 8/30\n",
            "82/82 [==============================] - 17s 211ms/step - loss: 0.1725 - accuracy: 0.9688 - val_loss: 0.4382 - val_accuracy: 0.8542\n",
            "Epoch 9/30\n",
            "82/82 [==============================] - 17s 210ms/step - loss: 0.1620 - accuracy: 0.9676 - val_loss: 0.4300 - val_accuracy: 0.8507\n",
            "Epoch 10/30\n",
            "82/82 [==============================] - 17s 211ms/step - loss: 0.1611 - accuracy: 0.9672 - val_loss: 0.2183 - val_accuracy: 0.9410\n",
            "Epoch 11/30\n",
            "82/82 [==============================] - 18s 217ms/step - loss: 0.1613 - accuracy: 0.9595 - val_loss: 0.2517 - val_accuracy: 0.9167\n",
            "Epoch 12/30\n",
            "82/82 [==============================] - 18s 213ms/step - loss: 0.1375 - accuracy: 0.9699 - val_loss: 0.2132 - val_accuracy: 0.9375\n",
            "Epoch 13/30\n",
            "82/82 [==============================] - 17s 210ms/step - loss: 0.1356 - accuracy: 0.9688 - val_loss: 0.2652 - val_accuracy: 0.9028\n",
            "Epoch 14/30\n",
            "82/82 [==============================] - 17s 210ms/step - loss: 0.1318 - accuracy: 0.9718 - val_loss: 0.2194 - val_accuracy: 0.9271\n",
            "Epoch 15/30\n",
            "82/82 [==============================] - 17s 211ms/step - loss: 0.1199 - accuracy: 0.9749 - val_loss: 0.2549 - val_accuracy: 0.8993\n",
            "Epoch 16/30\n",
            "82/82 [==============================] - 17s 211ms/step - loss: 0.1279 - accuracy: 0.9703 - val_loss: 0.1970 - val_accuracy: 0.9410\n",
            "Epoch 17/30\n",
            "82/82 [==============================] - 18s 219ms/step - loss: 0.1113 - accuracy: 0.9764 - val_loss: 0.1562 - val_accuracy: 0.9549\n",
            "Epoch 18/30\n",
            "82/82 [==============================] - 17s 212ms/step - loss: 0.1263 - accuracy: 0.9691 - val_loss: 0.2823 - val_accuracy: 0.8958\n",
            "Epoch 19/30\n",
            "82/82 [==============================] - 17s 212ms/step - loss: 0.0976 - accuracy: 0.9802 - val_loss: 0.1947 - val_accuracy: 0.9271\n",
            "Epoch 20/30\n",
            "82/82 [==============================] - 17s 211ms/step - loss: 0.1085 - accuracy: 0.9753 - val_loss: 0.2469 - val_accuracy: 0.9201\n",
            "Epoch 21/30\n",
            "82/82 [==============================] - 18s 212ms/step - loss: 0.0989 - accuracy: 0.9771 - val_loss: 0.2006 - val_accuracy: 0.9375\n",
            "Epoch 22/30\n",
            "82/82 [==============================] - 17s 212ms/step - loss: 0.0857 - accuracy: 0.9826 - val_loss: 0.1423 - val_accuracy: 0.9514\n",
            "Epoch 23/30\n",
            "82/82 [==============================] - 17s 213ms/step - loss: 0.0811 - accuracy: 0.9840 - val_loss: 0.1575 - val_accuracy: 0.9514\n",
            "Epoch 24/30\n",
            "82/82 [==============================] - 18s 216ms/step - loss: 0.0933 - accuracy: 0.9788 - val_loss: 0.2194 - val_accuracy: 0.9201\n",
            "Epoch 25/30\n",
            "82/82 [==============================] - 17s 210ms/step - loss: 0.0805 - accuracy: 0.9819 - val_loss: 0.1418 - val_accuracy: 0.9583\n",
            "Epoch 26/30\n",
            "82/82 [==============================] - 17s 211ms/step - loss: 0.0738 - accuracy: 0.9853 - val_loss: 0.1180 - val_accuracy: 0.9653\n",
            "Epoch 27/30\n",
            "82/82 [==============================] - 18s 213ms/step - loss: 0.0646 - accuracy: 0.9897 - val_loss: 0.2047 - val_accuracy: 0.9271\n",
            "Epoch 28/30\n",
            "82/82 [==============================] - 18s 214ms/step - loss: 0.0734 - accuracy: 0.9844 - val_loss: 0.2496 - val_accuracy: 0.9132\n",
            "Epoch 29/30\n",
            "82/82 [==============================] - 18s 213ms/step - loss: 0.0702 - accuracy: 0.9830 - val_loss: 0.0951 - val_accuracy: 0.9757\n",
            "Epoch 30/30\n",
            "82/82 [==============================] - 18s 214ms/step - loss: 0.0627 - accuracy: 0.9882 - val_loss: 0.0514 - val_accuracy: 0.9896\n"
          ]
        }
      ]
    },
    {
      "cell_type": "code",
      "source": [
        "\n",
        "def plot_loss(epochs, loss, val_loss):\n",
        "    plt.plot(epochs, loss, 'bo', label='Training Loss')\n",
        "    plt.plot(epochs, val_loss, 'orange', label = 'Validation Loss')\n",
        "    plt.title('Training and Validation Loss')\n",
        "    plt.legend()\n",
        "    plt.show()\n",
        "\"\"\"\n",
        "Plot the training and validation accuracy\n",
        "epochs - list of epoch numbers\n",
        "acc - training accuracy for each epoch\n",
        "val_acc - validation accuracy for each epoch\n",
        "\"\"\"\n",
        "def plot_accuracy(epochs, acc, val_acc):\n",
        "    plt.plot(epochs, acc, 'bo', label='Training accuracy')\n",
        "    plt.plot(epochs, val_acc, 'orange', label = 'Validation accuracy')\n",
        "    plt.title('Training and Validation Accuracy')\n",
        "    plt.legend()\n",
        "    plt.show()\n",
        "\n",
        "acc = history.history['accuracy']\n",
        "val_acc = history.history['val_accuracy']\n",
        "loss = history.history['loss']\n",
        "val_loss = history.history['val_loss']\n",
        "\n",
        "plot_loss(range(1, len(loss) + 1), loss, val_loss)\n",
        "plot_accuracy(range(1, len(loss) + 1), acc, val_acc)\n"
      ],
      "metadata": {
        "id": "YWuEtsJFcfdP",
        "colab": {
          "base_uri": "https://localhost:8080/",
          "height": 545
        },
        "outputId": "2848a4b1-cd36-4ef3-de9c-d516e3970e19"
      },
      "execution_count": null,
      "outputs": [
        {
          "output_type": "display_data",
          "data": {
            "text/plain": [
              "<Figure size 432x288 with 1 Axes>"
            ],
            "image/png": "[encoded data removed]"
          },
          "metadata": {
            "needs_background": "light"
          }
        },
        {
          "output_type": "display_data",
          "data": {
            "text/plain": [
              "<Figure size 432x288 with 1 Axes>"
            ],
            "image/png": "[encoded data removed]"
          },
          "metadata": {
            "needs_background": "light"
          }
        }
      ]
    },
    {
      "cell_type": "markdown",
      "source": [],
      "metadata": {
        "id": "l0qU5uU6bNOa"
      }
    },
    {
      "cell_type": "code",
      "source": [
        "def create_test_data(dir,n):\n",
        "    test_datas = []\n",
        "    for img in tqdm(os.listdir(dir)):\n",
        "        label = n\n",
        "        path = os.path.join(dir,img)\n",
        "        #img = cv2.imread(path)\n",
        "        img = cv2.imread(path, cv2.IMREAD_GRAYSCALE)\n",
        "        #test_datas.append([np.array(img),np.array(label)])\n",
        "        test_datas.append(np.asarray(img).astype('float32'))\n",
        "        \n",
        "    np.save('test_datas.npy', test_datas)\n",
        "    return test_datas\n",
        "\n",
        "test_data_n = create_test_data('/content/drive/My Drive/large_dataset(160)/Val/no',0.0)\n",
        "test_data_y = create_test_data('/content/drive/My Drive/large_dataset(160)/Val/yes',1.0)\n",
        "\n",
        "#x = np.hsplit(test_data_y)\n",
        "#y = np.hsplit(test_data_n)\n",
        "new_test_datas1 = np.concatenate((test_data_n, test_data_y), axis=0)\n",
        "#new_test_datas = np.concatenate((test_data_y, test_data_n), axis=0)\n",
        "new_test_datas = tf.convert_to_tensor(new_test_datas1)\n",
        "#new_test_datas_l=concatenate(x[1],y[1])\n",
        "# If you have already created the dataset:\n",
        "#train_data = np.load('train_data.npy')\n",
        "\n",
        "y_pred = classifier.predict(Test_Datas)\n",
        "#print(y_pred)\n",
        "y_test = Test_Datas.classes\n",
        "y_pred=np.round_(y_pred)\n",
        "\n",
        "accuracy1=sum(y_pred.flatten()==Test_Datas.classes)/len(Test_Datas.classes)\n",
        "print(\"accuracy without MC droupout \" + str(accuracy1))\n",
        "#print(type(Test_Datas[1][1][0]))\n",
        "#print(y_pred.flatten())\n",
        "#print(Test_Datas.classes)\n",
        "\n",
        "\n",
        "y_samples = np.stack([classifier(new_test_datas,training=True) for sample in range(10)])\n",
        "y_samples_mean = y_samples.mean(axis=0)\n",
        "y_samples_std = y_samples.std(axis=0)\n",
        "#print(f'Mean = {np.round(y_samples_mean[:1],2)}')\n",
        "#print(f'Std  = {np.round(y_samples_std[:1],2)}')\n",
        "\n",
        "\n",
        "y_pred=np.round_(y_samples_mean)\n",
        "#print(y_pred.flatten())\n",
        "accuracy=sum(y_pred.flatten()==Test_Datas.classes)/len(Test_Datas.classes)\n",
        "print(\"accuray is \" + str(accuracy))\n",
        "\n",
        "\n",
        "print(\"ROC AUC Score:\", metrics.roc_auc_score(y_test, y_pred))\n",
        "print(\"AP Score:\", metrics.average_precision_score(y_test, y_pred))\n",
        "print()\n",
        "print(metrics.classification_report(y_test, y_pred > 0.5))\n",
        "\n"
      ],
      "metadata": {
        "id": "nq5JZD_TcfZO",
        "colab": {
          "base_uri": "https://localhost:8080/"
        },
        "outputId": "1f2122cd-2b22-40de-da23-3d516233eb50"
      },
      "execution_count": null,
      "outputs": [
        {
          "output_type": "stream",
          "name": "stderr",
          "text": [
            "100%|██████████| 170/170 [00:00<00:00, 486.85it/s]\n",
            "100%|██████████| 470/470 [00:00<00:00, 485.40it/s]\n"
          ]
        },
        {
          "output_type": "stream",
          "name": "stdout",
          "text": [
            "accuracy without MC droupout 0.9859375\n",
            "accuray is 0.9875\n",
            "ROC AUC Score: 0.9914893617021276\n",
            "AP Score: 0.9954787234042554\n",
            "\n",
            "              precision    recall  f1-score   support\n",
            "\n",
            "           0       0.96      1.00      0.98       170\n",
            "           1       1.00      0.98      0.99       470\n",
            "\n",
            "    accuracy                           0.99       640\n",
            "   macro avg       0.98      0.99      0.98       640\n",
            "weighted avg       0.99      0.99      0.99       640\n",
            "\n"
          ]
        }
      ]
    },
    {
      "cell_type": "code",
      "source": [],
      "metadata": {
        "id": "eatVLWd8cffu"
      },
      "execution_count": null,
      "outputs": []
    },
    {
      "cell_type": "code",
      "source": [],
      "metadata": {
        "id": "042ONRDBcfhk"
      },
      "execution_count": null,
      "outputs": []
    },
    {
      "cell_type": "code",
      "source": [],
      "metadata": {
        "id": "GWJIcVXNcfj8"
      },
      "execution_count": null,
      "outputs": []
    },
    {
      "cell_type": "code",
      "source": [],
      "metadata": {
        "id": "a4bzpi-UcfmP"
      },
      "execution_count": null,
      "outputs": []
    },
    {
      "cell_type": "code",
      "source": [],
      "metadata": {
        "id": "oOdd864pcgC6"
      },
      "execution_count": null,
      "outputs": []
    },
    {
      "cell_type": "code",
      "source": [],
      "metadata": {
        "id": "GpxTwdnlcgFf"
      },
      "execution_count": null,
      "outputs": []
    }
  ]
}
