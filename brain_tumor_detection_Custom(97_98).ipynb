{
  "cells": [
    {
      "cell_type": "code",
      "execution_count": null,
      "metadata": {
        "id": "CBXimMEXkhSs"
      },
      "outputs": [],
      "source": [
        "%matplotlib inline\n",
        "import matplotlib.pyplot as plt\n",
        "from PIL import Image\n",
        "import numpy as np\n",
        "import math\n",
        "import copy\n",
        "import numpy as np\n",
        "from keras.models import Sequential, Model\n",
        "#from keras.layers import Input, Dense, Flatten, Dropout, Activation, Lambda, Permute, Reshape\n",
        "from keras.layers import Convolution2D, ZeroPadding2D, MaxPooling2D\n",
        "from keras.layers import Conv2D, MaxPooling2D, GlobalAveragePooling2D\n",
        "from keras.layers import Dropout, Flatten, Dense\n",
        "from keras.models import Sequential\n",
        "from tensorflow.keras.layers import BatchNormalization\n",
        "from keras.preprocessing import image\n",
        "from keras.preprocessing.image import ImageDataGenerator\n",
        "import tensorflow as tf\n",
        "from tensorflow.python.framework import ops\n",
        "from sklearn.datasets import load_files       \n",
        "from keras.utils import np_utils\n",
        "import numpy as np\n",
        "from glob import glob\n",
        "import pandas as pd\n",
        "import cv2\n",
        "import scipy.misc\n",
        "import matplotlib.pyplot as plt\n",
        "from tqdm import tqdm\n",
        "from keras.layers.merge import concatenate\n",
        "from sklearn import metrics\n",
        "import os\n",
        "from os import listdir\n",
        "from numpy import asarray\n",
        "from numpy import save\n",
        "from keras.preprocessing.image import load_img\n",
        "from keras.preprocessing.image import img_to_array\n"
      ]
    },
    {
      "cell_type": "code",
      "execution_count": null,
      "metadata": {
        "colab": {
          "base_uri": "https://localhost:8080/"
        },
        "id": "FaMWC6S0wpn5",
        "outputId": "d5df4a3e-b123-401c-d8a7-238aae28f5cb"
      },
      "outputs": [
        {
          "name": "stdout",
          "output_type": "stream",
          "text": [
            "Drive already mounted at /content/gdrive; to attempt to forcibly remount, call drive.mount(\"/content/gdrive\", force_remount=True).\n"
          ]
        }
      ],
      "source": [
        "from google.colab import drive\n",
        "drive.mount('/content/gdrive')"
      ]
    },
    {
      "cell_type": "code",
      "execution_count": null,
      "metadata": {
        "colab": {
          "base_uri": "https://localhost:8080/"
        },
        "id": "qBkuELhtwpqY",
        "outputId": "3c1d477d-dd99-4d5f-d244-2ad493634062"
      },
      "outputs": [
        {
          "name": "stdout",
          "output_type": "stream",
          "text": [
            "Found 5025 images belonging to 2 classes.\n",
            "Found 640 images belonging to 2 classes.\n",
            "Found 1304 images belonging to 2 classes.\n"
          ]
        }
      ],
      "source": [
        "data_generator = ImageDataGenerator(rescale=1./255.,\n",
        "                               shear_range=0.15,\n",
        "                               zoom_range=0.15,\n",
        "                               featurewise_center=False,\n",
        "                               samplewise_center=False,\n",
        "                               featurewise_std_normalization=False,\n",
        "                               samplewise_std_normalization=False,\n",
        "                               zca_whitening=False,\n",
        "                               zca_epsilon=1e-06,\n",
        "                               rotation_range=0,\n",
        "                               width_shift_range=0.0,\n",
        "                               height_shift_range=0.0,\n",
        "                               brightness_range=None,\n",
        "                               channel_shift_range=0.0,                             \n",
        "                               cval=0.0,\n",
        "                               horizontal_flip=False,\n",
        "                               preprocessing_function=None,\n",
        "                               data_format=None,\n",
        "                               validation_split=0.0)\n",
        "batch_size = 32\n",
        "\n",
        "Training_datas= data_generator.flow_from_directory(\n",
        "    '/content/gdrive/My Drive/large_dataset(160)/Training',\n",
        "    target_size = (160, 160),\n",
        "    batch_size = batch_size,\n",
        "    shuffle = True,\n",
        "    class_mode ='binary'\n",
        ")\n",
        "\n",
        "#image_gen1 = ImageDataGenerator(rescale=1./255.)\n",
        "\n",
        "Validation_datas = data_generator.flow_from_directory(\n",
        "    '/content/gdrive/My Drive/large_dataset(160)/Val',\n",
        "    target_size = (160, 160),\n",
        "    batch_size = batch_size,\n",
        "    shuffle = True,\n",
        "    class_mode = 'binary'\n",
        ")\n",
        "Test_Datas = data_generator.flow_from_directory(\n",
        "    '/content/gdrive/My Drive/large_dataset(160)/Testing',\n",
        "    target_size = (160, 160),\n",
        "    batch_size = 1,\n",
        "    shuffle = False,\n",
        "    class_mode ='binary'\n",
        ")"
      ]
    },
    {
      "cell_type": "code",
      "execution_count": null,
      "metadata": {
        "colab": {
          "base_uri": "https://localhost:8080/"
        },
        "id": "jB6dj_fw39eg",
        "outputId": "fd599e75-d5c7-402f-93f8-77988e05c5d7"
      },
      "outputs": [
        {
          "name": "stdout",
          "output_type": "stream",
          "text": [
            "Model: \"sequential_4\"\n",
            "_________________________________________________________________\n",
            " Layer (type)                Output Shape              Param #   \n",
            "=================================================================\n",
            " batch_normalization_28 (Bat  (None, 160, 160, 3)      12        \n",
            " chNormalization)                                                \n",
            "                                                                 \n",
            " conv2d_24 (Conv2D)          (None, 160, 160, 16)      448       \n",
            "                                                                 \n",
            " max_pooling2d_24 (MaxPoolin  (None, 80, 80, 16)       0         \n",
            " g2D)                                                            \n",
            "                                                                 \n",
            " batch_normalization_29 (Bat  (None, 80, 80, 16)       64        \n",
            " chNormalization)                                                \n",
            "                                                                 \n",
            " conv2d_25 (Conv2D)          (None, 80, 80, 32)        4640      \n",
            "                                                                 \n",
            " max_pooling2d_25 (MaxPoolin  (None, 40, 40, 32)       0         \n",
            " g2D)                                                            \n",
            "                                                                 \n",
            " batch_normalization_30 (Bat  (None, 40, 40, 32)       128       \n",
            " chNormalization)                                                \n",
            "                                                                 \n",
            " dropout_40 (Dropout)        (None, 40, 40, 32)        0         \n",
            "                                                                 \n",
            " conv2d_26 (Conv2D)          (None, 40, 40, 64)        18496     \n",
            "                                                                 \n",
            " max_pooling2d_26 (MaxPoolin  (None, 20, 20, 64)       0         \n",
            " g2D)                                                            \n",
            "                                                                 \n",
            " batch_normalization_31 (Bat  (None, 20, 20, 64)       256       \n",
            " chNormalization)                                                \n",
            "                                                                 \n",
            " dropout_41 (Dropout)        (None, 20, 20, 64)        0         \n",
            "                                                                 \n",
            " conv2d_27 (Conv2D)          (None, 20, 20, 128)       73856     \n",
            "                                                                 \n",
            " max_pooling2d_27 (MaxPoolin  (None, 10, 10, 128)      0         \n",
            " g2D)                                                            \n",
            "                                                                 \n",
            " batch_normalization_32 (Bat  (None, 10, 10, 128)      512       \n",
            " chNormalization)                                                \n",
            "                                                                 \n",
            " dropout_42 (Dropout)        (None, 10, 10, 128)       0         \n",
            "                                                                 \n",
            " conv2d_28 (Conv2D)          (None, 10, 10, 256)       295168    \n",
            "                                                                 \n",
            " max_pooling2d_28 (MaxPoolin  (None, 5, 5, 256)        0         \n",
            " g2D)                                                            \n",
            "                                                                 \n",
            " batch_normalization_33 (Bat  (None, 5, 5, 256)        1024      \n",
            " chNormalization)                                                \n",
            "                                                                 \n",
            " dropout_43 (Dropout)        (None, 5, 5, 256)         0         \n",
            "                                                                 \n",
            " conv2d_29 (Conv2D)          (None, 5, 5, 512)         1180160   \n",
            "                                                                 \n",
            " max_pooling2d_29 (MaxPoolin  (None, 2, 2, 512)        0         \n",
            " g2D)                                                            \n",
            "                                                                 \n",
            " batch_normalization_34 (Bat  (None, 2, 2, 512)        2048      \n",
            " chNormalization)                                                \n",
            "                                                                 \n",
            " dropout_44 (Dropout)        (None, 2, 2, 512)         0         \n",
            "                                                                 \n",
            " flatten_4 (Flatten)         (None, 2048)              0         \n",
            "                                                                 \n",
            " dense_24 (Dense)            (None, 512)               1049088   \n",
            "                                                                 \n",
            " dropout_45 (Dropout)        (None, 512)               0         \n",
            "                                                                 \n",
            " dense_25 (Dense)            (None, 256)               131328    \n",
            "                                                                 \n",
            " dropout_46 (Dropout)        (None, 256)               0         \n",
            "                                                                 \n",
            " dense_26 (Dense)            (None, 128)               32896     \n",
            "                                                                 \n",
            " dropout_47 (Dropout)        (None, 128)               0         \n",
            "                                                                 \n",
            " dense_27 (Dense)            (None, 64)                8256      \n",
            "                                                                 \n",
            " dropout_48 (Dropout)        (None, 64)                0         \n",
            "                                                                 \n",
            " dense_28 (Dense)            (None, 32)                2080      \n",
            "                                                                 \n",
            " dropout_49 (Dropout)        (None, 32)                0         \n",
            "                                                                 \n",
            " dense_29 (Dense)            (None, 1)                 33        \n",
            "                                                                 \n",
            "=================================================================\n",
            "Total params: 2,800,493\n",
            "Trainable params: 2,798,471\n",
            "Non-trainable params: 2,022\n",
            "_________________________________________________________________\n"
          ]
        }
      ],
      "source": [
        "act_sig='sigmoid'\n",
        "act_relu = 'relu'\n",
        "x = 0.001\n",
        "Input = (160,160,3)\n",
        "init='he_normal'\n",
        "Dropoutt = 0.15\n",
        "padding = 'same'\n",
        "\n",
        "CLASSIFIER = Sequential()\n",
        "CLASSIFIER.add(BatchNormalization(input_shape = Input))\n",
        "CLASSIFIER.add(Conv2D(filters=16, kernel_size=3, activation=act_relu, padding=\"same\"))\n",
        "CLASSIFIER.add(MaxPooling2D(pool_size=2))\n",
        "CLASSIFIER.add(BatchNormalization(epsilon=x))\n",
        "\n",
        "CLASSIFIER.add(Conv2D(filters=32, kernel_size=3, activation=act_relu, padding=\"same\"))\n",
        "CLASSIFIER.add(MaxPooling2D(pool_size=2))\n",
        "CLASSIFIER.add(BatchNormalization(epsilon=x))\n",
        "CLASSIFIER.add(Dropout(Dropoutt))\n",
        "\n",
        "CLASSIFIER.add(Conv2D(filters=64, kernel_size=3, activation=act_relu, padding=\"same\"))\n",
        "CLASSIFIER.add(MaxPooling2D(pool_size=2))\n",
        "CLASSIFIER.add(BatchNormalization(epsilon=x))\n",
        "CLASSIFIER.add(Dropout(Dropoutt))\n",
        "\n",
        "CLASSIFIER.add(Conv2D(filters =128, kernel_size=3, activation=act_relu, padding=\"same\"))\n",
        "CLASSIFIER.add(MaxPooling2D(pool_size=2))\n",
        "CLASSIFIER.add(BatchNormalization(epsilon=x))\n",
        "CLASSIFIER.add(Dropout(Dropoutt))\n",
        "\n",
        "CLASSIFIER.add(Conv2D(filters=256, kernel_size=3, activation=act_relu, padding=\"same\"))\n",
        "CLASSIFIER.add(MaxPooling2D(pool_size=2))\n",
        "CLASSIFIER.add(BatchNormalization(epsilon=x))\n",
        "CLASSIFIER.add(Dropout(Dropoutt))\n",
        "\n",
        "CLASSIFIER.add(Conv2D(filters=512, kernel_size=3, activation=act_relu, padding=\"same\"))\n",
        "CLASSIFIER.add(MaxPooling2D(pool_size=2))\n",
        "CLASSIFIER.add(BatchNormalization(epsilon=x))\n",
        "CLASSIFIER.add(Dropout(Dropoutt))\n",
        "\"\"\"\n",
        "model.add(Conv2D(filters=1024, kernel_size=3, activation=act_relu, padding=\"same\"))\n",
        "model.add(MaxPooling2D(pool_size=2))\n",
        "model.add(BatchNormalization(epsilon=x))\n",
        "model.add(Dropout(0.3))\n",
        "\"\"\"\n",
        "#model.add(GlobalAveragePooling2D())\n",
        "CLASSIFIER.add(Flatten())\n",
        "\n",
        "CLASSIFIER.add(Dense(512, kernel_initializer=init, activation=act_relu))\n",
        "CLASSIFIER.add(Dropout(Dropoutt))\n",
        "\n",
        "\n",
        "CLASSIFIER.add(Dense(256, kernel_initializer=init, activation=act_relu))\n",
        "CLASSIFIER.add(Dropout(Dropoutt))\n",
        "\n",
        "\n",
        "CLASSIFIER.add(Dense(128, kernel_initializer=init, activation=act_relu))\n",
        "CLASSIFIER.add(Dropout(Dropoutt))\n",
        "\n",
        "\n",
        "CLASSIFIER.add(Dense(64, kernel_initializer=init, activation=act_relu))\n",
        "CLASSIFIER.add(Dropout(Dropoutt))\n",
        "\n",
        "\n",
        "CLASSIFIER.add(Dense(32, kernel_initializer=init, activation=act_relu))\n",
        "CLASSIFIER.add(Dropout(Dropoutt))\n",
        "\n",
        "CLASSIFIER.add(Dense(1, activation=act_sig))\n",
        "\n",
        "CLASSIFIER.summary() "
      ]
    },
    {
      "cell_type": "code",
      "execution_count": null,
      "metadata": {
        "colab": {
          "base_uri": "https://localhost:8080/"
        },
        "id": "G5dn7JDowptQ",
        "outputId": "25ca5fb4-c16e-44d8-fc1e-1d7a25b687ef"
      },
      "outputs": [
        {
          "output_type": "stream",
          "name": "stdout",
          "text": [
            "Epoch 1/25\n",
            "157/157 [==============================] - 271s 2s/step - loss: 0.1817 - accuracy: 0.9323 - val_loss: 0.6221 - val_accuracy: 0.7344\n",
            "Epoch 2/25\n",
            "157/157 [==============================] - 271s 2s/step - loss: 0.1500 - accuracy: 0.9493 - val_loss: 1.1940 - val_accuracy: 0.7344\n",
            "Epoch 3/25\n",
            "157/157 [==============================] - 271s 2s/step - loss: 0.1206 - accuracy: 0.9615 - val_loss: 2.0493 - val_accuracy: 0.7344\n",
            "Epoch 4/25\n",
            "157/157 [==============================] - 275s 2s/step - loss: 0.1222 - accuracy: 0.9597 - val_loss: 0.4033 - val_accuracy: 0.8047\n",
            "Epoch 5/25\n",
            "157/157 [==============================] - 271s 2s/step - loss: 0.1063 - accuracy: 0.9639 - val_loss: 0.4963 - val_accuracy: 0.8141\n",
            "Epoch 6/25\n",
            "157/157 [==============================] - 269s 2s/step - loss: 0.1033 - accuracy: 0.9654 - val_loss: 0.1974 - val_accuracy: 0.9406\n",
            "Epoch 7/25\n",
            "157/157 [==============================] - 274s 2s/step - loss: 0.0903 - accuracy: 0.9700 - val_loss: 0.1604 - val_accuracy: 0.9359\n",
            "Epoch 8/25\n",
            "157/157 [==============================] - 269s 2s/step - loss: 0.0880 - accuracy: 0.9694 - val_loss: 0.1081 - val_accuracy: 0.9594\n",
            "Epoch 9/25\n",
            "157/157 [==============================] - 270s 2s/step - loss: 0.0910 - accuracy: 0.9712 - val_loss: 0.0980 - val_accuracy: 0.9609\n",
            "Epoch 10/25\n",
            "157/157 [==============================] - 272s 2s/step - loss: 0.0872 - accuracy: 0.9688 - val_loss: 0.0749 - val_accuracy: 0.9703\n",
            "Epoch 11/25\n",
            "157/157 [==============================] - 271s 2s/step - loss: 0.0741 - accuracy: 0.9738 - val_loss: 0.0770 - val_accuracy: 0.9688\n",
            "Epoch 12/25\n",
            "157/157 [==============================] - 271s 2s/step - loss: 0.0674 - accuracy: 0.9748 - val_loss: 0.1066 - val_accuracy: 0.9656\n",
            "Epoch 13/25\n",
            "157/157 [==============================] - 271s 2s/step - loss: 0.0720 - accuracy: 0.9736 - val_loss: 0.0897 - val_accuracy: 0.9609\n",
            "Epoch 14/25\n",
            "157/157 [==============================] - 270s 2s/step - loss: 0.0557 - accuracy: 0.9806 - val_loss: 0.0657 - val_accuracy: 0.9766\n",
            "Epoch 15/25\n",
            "157/157 [==============================] - 271s 2s/step - loss: 0.0551 - accuracy: 0.9812 - val_loss: 0.0742 - val_accuracy: 0.9719\n",
            "Epoch 16/25\n",
            "157/157 [==============================] - 273s 2s/step - loss: 0.0541 - accuracy: 0.9802 - val_loss: 0.0564 - val_accuracy: 0.9812\n",
            "Epoch 17/25\n",
            "157/157 [==============================] - 271s 2s/step - loss: 0.0434 - accuracy: 0.9846 - val_loss: 0.0594 - val_accuracy: 0.9812\n",
            "Epoch 18/25\n",
            "157/157 [==============================] - 273s 2s/step - loss: 0.0449 - accuracy: 0.9832 - val_loss: 0.0646 - val_accuracy: 0.9797\n",
            "Epoch 19/25\n",
            "157/157 [==============================] - 274s 2s/step - loss: 0.0449 - accuracy: 0.9856 - val_loss: 0.0962 - val_accuracy: 0.9719\n",
            "Epoch 20/25\n",
            "157/157 [==============================] - 274s 2s/step - loss: 0.0401 - accuracy: 0.9858 - val_loss: 0.0520 - val_accuracy: 0.9812\n",
            "Epoch 21/25\n",
            "157/157 [==============================] - 274s 2s/step - loss: 0.0493 - accuracy: 0.9826 - val_loss: 0.1384 - val_accuracy: 0.9734\n",
            "Epoch 22/25\n",
            "157/157 [==============================] - 271s 2s/step - loss: 0.0474 - accuracy: 0.9846 - val_loss: 0.0563 - val_accuracy: 0.9797\n",
            "Epoch 23/25\n",
            "157/157 [==============================] - 273s 2s/step - loss: 0.0316 - accuracy: 0.9882 - val_loss: 0.0601 - val_accuracy: 0.9828\n",
            "Epoch 24/25\n",
            "157/157 [==============================] - 266s 2s/step - loss: 0.0383 - accuracy: 0.9876 - val_loss: 0.0681 - val_accuracy: 0.9828\n",
            "Epoch 25/25\n",
            "157/157 [==============================] - 267s 2s/step - loss: 0.0283 - accuracy: 0.9914 - val_loss: 0.0568 - val_accuracy: 0.9859\n"
          ]
        }
      ],
      "source": [
        "# Parameters Initialization\n",
        "from tensorflow.keras.optimizers import Adam, RMSprop\n",
        "\n",
        "CLASSIFIER.compile(loss='binary_crossentropy',optimizer=Adam(learning_rate=0.0001), metrics=['accuracy'])\n",
        "\n",
        "Training_Steps = 5025//batch_size\n",
        "Validation_Steps = 1304//batch_size\n",
        "history = CLASSIFIER.fit(\n",
        "    Training_datas,\n",
        "    epochs=25,\n",
        "    steps_per_epoch=Training_Steps,\n",
        "    validation_data=Validation_datas,\n",
        "    validation_steps=Validation_Steps\n",
        ")\n",
        "\n",
        "#odel.save(\"custom_augmented_model.h5\")"
      ]
    },
    {
      "cell_type": "code",
      "execution_count": null,
      "metadata": {
        "colab": {
          "base_uri": "https://localhost:8080/",
          "height": 545
        },
        "id": "LiY_Ah1Cwp4D",
        "outputId": "82a10554-43e7-4e5c-a22f-88fb22ae4a24"
      },
      "outputs": [
        {
          "output_type": "display_data",
          "data": {
            "text/plain": [
              "<Figure size 432x288 with 1 Axes>"
            ],
            "image/png": "[encoded data removed]"
          },
          "metadata": {
            "needs_background": "light"
          }
        },
        {
          "output_type": "display_data",
          "data": {
            "text/plain": [
              "<Figure size 432x288 with 1 Axes>"
            ],
            "image/png": "[encoded data removed]"
          },
          "metadata": {
            "needs_background": "light"
          }
        }
      ],
      "source": [
        "def plot_loss(epochs, loss, val_loss):\n",
        "    plt.plot(epochs, loss, 'bo', label='Training Loss')\n",
        "    plt.plot(epochs, val_loss, 'orange', label = 'Validation Loss')\n",
        "    plt.title('Training and Validation Loss')\n",
        "    plt.legend()\n",
        "    plt.show()\n",
        "\n",
        "def plot_accuracy(epochs, acc, val_acc):\n",
        "    plt.plot(epochs, acc, 'bo', label='Training accuracy')\n",
        "    plt.plot(epochs, val_acc, 'orange', label = 'Validation accuracy')\n",
        "    plt.title('Training and Validation Accuracy')\n",
        "    plt.legend()\n",
        "    plt.show()\n",
        "\n",
        "acc = history.history['accuracy']\n",
        "val_acc = history.history['val_accuracy']\n",
        "loss = history.history['loss']\n",
        "val_loss = history.history['val_loss']\n",
        "\n",
        "plot_loss(range(1, len(loss) + 1), loss, val_loss)\n",
        "plot_accuracy(range(1, len(loss) + 1), acc, val_acc)"
      ]
    },
    {
      "cell_type": "code",
      "execution_count": null,
      "metadata": {
        "colab": {
          "base_uri": "https://localhost:8080/"
        },
        "id": "Y_77zTpJwp6Z",
        "outputId": "a51822f1-f8ba-4d1c-dd43-573e5c9f8fd8"
      },
      "outputs": [
        {
          "output_type": "stream",
          "name": "stderr",
          "text": [
            "100%|██████████| 405/405 [00:01<00:00, 262.19it/s]\n",
            "100%|██████████| 899/899 [00:03<00:00, 266.69it/s]\n"
          ]
        },
        {
          "output_type": "stream",
          "name": "stdout",
          "text": [
            "accuracy without MC droupout 0.977760736196319\n",
            "accuray with  MC droupout is 0.9892638036809815\n",
            "ROC AUC Score: 0.9915351762589434\n",
            "AP Score: 0.9943977204767512\n",
            "\n",
            "              precision    recall  f1-score   support\n",
            "\n",
            "           0       0.97      1.00      0.98       405\n",
            "           1       1.00      0.99      0.99       899\n",
            "\n",
            "    accuracy                           0.99      1304\n",
            "   macro avg       0.98      0.99      0.99      1304\n",
            "weighted avg       0.99      0.99      0.99      1304\n",
            "\n"
          ]
        }
      ],
      "source": [
        "def create_test_data(dir,n):\n",
        "    test_datas = []\n",
        "    for img in tqdm(os.listdir(dir)):\n",
        "        label = n\n",
        "        path = os.path.join(dir,img)\n",
        "        img = cv2.imread(path)\n",
        "        #test_datas.append([np.array(img),np.array(label)])\n",
        "        test_datas.append(np.asarray(img).astype('float32'))\n",
        "        \n",
        "    np.save('test_datas.npy', test_datas)\n",
        "    return test_datas\n",
        "\n",
        "test_data_n = create_test_data('/content/gdrive/My Drive/large_dataset(160)/Testing/no',0.0)\n",
        "test_data_y = create_test_data('/content/gdrive/My Drive/large_dataset(160)/Testing/yes',1.0)\n",
        "\n",
        "#x = np.hsplit(test_data_y)\n",
        "#y = np.hsplit(test_data_n)\n",
        "new_test_datas = np.concatenate((test_data_n, test_data_y), axis=0)\n",
        "new_test_datas = tf.convert_to_tensor(new_test_datas)\n",
        "#new_test_datas_l=concatenate(x[1],y[1])\n",
        "# If you have already created the dataset:\n",
        "#train_data = np.load('train_data.npy')\n",
        "\n",
        "y_pred = model.predict(Test_Datas)\n",
        "#print(y_pred)\n",
        "y_test = Test_Datas.classes\n",
        "y_pred=np.round_(y_pred)\n",
        "\n",
        "accuracy1=sum(y_pred.flatten()==Test_Datas.classes)/len(Test_Datas.classes)\n",
        "print(\"accuracy without MC droupout \" + str(accuracy1))\n",
        "#print(y_pred.flatten())\n",
        "#print(Test_Datas.classes)\n",
        "\n",
        "y_samples = np.stack([CLASSIFIER(new_test_datas,training=True) for sample in range(10)])\n",
        "y_samples_mean = y_samples.mean(axis=0)\n",
        "y_samples_std = y_samples.std(axis=0)\n",
        "\n",
        "#print(f'Mean = {np.round(y_samples_mean[:1],2)}')\n",
        "#print(f'Std  = {np.round(y_samples_std[:1],2)}')\n",
        "\n",
        "y_pred=np.round_(y_samples_mean)\n",
        "#print(y_pred.flatten())\n",
        "accuracy=sum(y_pred.flatten()==Test_Datas.classes)/len(Test_Datas.classes)\n",
        "print(\"accuray with  MC droupout is \" + str(accuracy))\n",
        "\n",
        "\"\"\"\n",
        "\"\"\"\n",
        "\n",
        "print(\"ROC AUC Score:\", metrics.roc_auc_score(y_test, y_pred))\n",
        "print(\"AP Score:\", metrics.average_precision_score(y_test, y_pred))\n",
        "print()\n",
        "print(metrics.classification_report(y_test, y_pred > 0.5))\n",
        "\n",
        "\n"
      ]
    },
    {
      "cell_type": "code",
      "execution_count": null,
      "metadata": {
        "id": "LLEEoMPBwqKR"
      },
      "outputs": [],
      "source": []
    },
    {
      "cell_type": "code",
      "execution_count": null,
      "metadata": {
        "id": "iimqJQikwqeH"
      },
      "outputs": [],
      "source": []
    }
  ],
  "metadata": {
    "accelerator": "GPU",
    "colab": {
      "collapsed_sections": [],
      "provenance": []
    },
    "gpuClass": "standard",
    "kernelspec": {
      "display_name": "Python 3",
      "name": "python3"
    },
    "language_info": {
      "name": "python"
    }
  },
  "nbformat": 4,
  "nbformat_minor": 0
}